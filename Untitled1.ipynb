{
 "cells": [
  {
   "cell_type": "code",
   "execution_count": 1,
   "metadata": {
    "collapsed": true
   },
   "outputs": [],
   "source": [
    "%matplotlib inline\n",
    "\n",
    "import datetime as datetime\n",
    "import pandas as pd\n",
    "import numpy as np\n",
    "import matplotlib.pyplot as plt"
   ]
  },
  {
   "cell_type": "code",
   "execution_count": 33,
   "metadata": {
    "collapsed": true
   },
   "outputs": [],
   "source": [
    "def cargarArchivos(inicio,fin,anio):\n",
    "    prop = pd.read_csv('..\\Desktop\\TP1-Orga\\Properati_sell\\properati-AR-'+str(anio)+'-0'+str(inicio)+'-01-properties-sell.csv',low_memory=False)\n",
    "    for i in range(inicio+1,fin+1):\n",
    "        if(i>0 and i<=9):\n",
    "            prop2 = pd.read_csv('..\\Desktop\\TP1-Orga\\Properati_sell\\properati-AR-'+str(anio)+'-0'+str(i)+'-01-properties-sell.csv', low_memory=False)\n",
    "        else:\n",
    "            prop2 = pd.read_csv('..\\Desktop\\TP1-Orga\\Properati_sell\\properati-AR-'+str(anio)+'-'+str(i)+'-01-properties-sell.csv', low_memory=False)\n",
    "        prop = pd.concat([prop,prop2])\n",
    "    return prop"
   ]
  },
  {
   "cell_type": "code",
   "execution_count": 36,
   "metadata": {},
   "outputs": [],
   "source": [
    "prop2013 = cargarArchivos(8,12,2013)\n",
    "prop2014 = cargarArchivos(1,12,2014)\n",
    "prop2015 = cargarArchivos(1,12,2015)\n",
    "prop2016 = cargarArchivos(1,12,2016)\n",
    "prop2017 = cargarArchivos(1,8,2017)"
   ]
  },
  {
   "cell_type": "code",
   "execution_count": 37,
   "metadata": {},
   "outputs": [
    {
     "name": "stdout",
     "output_type": "stream",
     "text": [
      "<class 'pandas.core.frame.DataFrame'>\n",
      "Int64Index: 306102 entries, 0 to 66791\n",
      "Data columns (total 20 columns):\n",
      "created_on                    306102 non-null object\n",
      "operation                     306102 non-null object\n",
      "property_type                 306102 non-null object\n",
      "place_name                    306102 non-null object\n",
      "place_with_parent_names       306102 non-null object\n",
      "geonames_id                   238560 non-null float64\n",
      "lat-lon                       280337 non-null object\n",
      "lat                           280337 non-null float64\n",
      "lon                           280334 non-null float64\n",
      "price                         243266 non-null float64\n",
      "currency                      243266 non-null object\n",
      "price_aprox_local_currency    243266 non-null float64\n",
      "price_aprox_usd               243266 non-null float64\n",
      "surface_in_m2                 232950 non-null float64\n",
      "price_usd_per_m2              194675 non-null float64\n",
      "floor                         51424 non-null float64\n",
      "rooms                         245867 non-null float64\n",
      "expenses                      10758 non-null object\n",
      "properati_url                 306102 non-null object\n",
      "image_thumbnail               287842 non-null object\n",
      "dtypes: float64(10), object(10)\n",
      "memory usage: 49.0+ MB\n"
     ]
    }
   ],
   "source": [
    "prop2013.info()"
   ]
  },
  {
   "cell_type": "code",
   "execution_count": 38,
   "metadata": {},
   "outputs": [
    {
     "name": "stdout",
     "output_type": "stream",
     "text": [
      "<class 'pandas.core.frame.DataFrame'>\n",
      "Int64Index: 785489 entries, 0 to 67773\n",
      "Data columns (total 20 columns):\n",
      "created_on                    785489 non-null object\n",
      "operation                     785489 non-null object\n",
      "property_type                 785489 non-null object\n",
      "place_name                    785489 non-null object\n",
      "place_with_parent_names       785489 non-null object\n",
      "geonames_id                   686301 non-null float64\n",
      "lat-lon                       645650 non-null object\n",
      "lat                           645650 non-null float64\n",
      "lon                           645642 non-null float64\n",
      "price                         622178 non-null float64\n",
      "currency                      622178 non-null object\n",
      "price_aprox_local_currency    622176 non-null float64\n",
      "price_aprox_usd               622176 non-null float64\n",
      "surface_in_m2                 543482 non-null float64\n",
      "price_usd_per_m2              450076 non-null float64\n",
      "floor                         125416 non-null float64\n",
      "rooms                         550849 non-null float64\n",
      "expenses                      12816 non-null object\n",
      "properati_url                 785489 non-null object\n",
      "image_thumbnail               740698 non-null object\n",
      "dtypes: float64(10), object(10)\n",
      "memory usage: 125.8+ MB\n"
     ]
    }
   ],
   "source": [
    "prop2014.info()"
   ]
  },
  {
   "cell_type": "code",
   "execution_count": 39,
   "metadata": {},
   "outputs": [
    {
     "name": "stdout",
     "output_type": "stream",
     "text": [
      "<class 'pandas.core.frame.DataFrame'>\n",
      "Int64Index: 1157875 entries, 0 to 123942\n",
      "Data columns (total 26 columns):\n",
      "created_on                    1157875 non-null object\n",
      "currency                      951028 non-null object\n",
      "description                   1028481 non-null object\n",
      "expenses                      18939 non-null object\n",
      "extra                         1028481 non-null object\n",
      "floor                         179120 non-null float64\n",
      "geonames_id                   991400 non-null float64\n",
      "image_thumbnail               1133904 non-null object\n",
      "lat                           789245 non-null float64\n",
      "lat-lon                       789245 non-null object\n",
      "lon                           789221 non-null float64\n",
      "operation                     1157875 non-null object\n",
      "place_name                    1157816 non-null object\n",
      "place_with_parent_names       1157875 non-null object\n",
      "price                         951330 non-null float64\n",
      "price_aprox_local_currency    951330 non-null float64\n",
      "price_aprox_usd               951330 non-null float64\n",
      "price_per_m2                  81507 non-null float64\n",
      "price_usd_per_m2              552630 non-null float64\n",
      "properati_url                 1157875 non-null object\n",
      "property_type                 1157875 non-null object\n",
      "rooms                         583353 non-null float64\n",
      "surface_covered_in_m2         94188 non-null float64\n",
      "surface_in_m2                 644002 non-null float64\n",
      "surface_total_in_m2           76737 non-null float64\n",
      "title                         1028481 non-null object\n",
      "dtypes: float64(13), object(13)\n",
      "memory usage: 238.5+ MB\n"
     ]
    }
   ],
   "source": [
    "prop2015.info()"
   ]
  },
  {
   "cell_type": "code",
   "execution_count": 40,
   "metadata": {},
   "outputs": [
    {
     "name": "stdout",
     "output_type": "stream",
     "text": [
      "<class 'pandas.core.frame.DataFrame'>\n",
      "Int64Index: 517534 entries, 0 to 58158\n",
      "Data columns (total 27 columns):\n",
      "id                            517534 non-null object\n",
      "created_on                    517534 non-null object\n",
      "operation                     517534 non-null object\n",
      "property_type                 517534 non-null object\n",
      "place_name                    517448 non-null object\n",
      "place_with_parent_names       517534 non-null object\n",
      "country_name                  517534 non-null object\n",
      "state_name                    517534 non-null object\n",
      "geonames_id                   438409 non-null float64\n",
      "lat-lon                       411628 non-null object\n",
      "lat                           411628 non-null float64\n",
      "lon                           411628 non-null float64\n",
      "price                         468137 non-null float64\n",
      "currency                      434458 non-null object\n",
      "price_aprox_local_currency    468137 non-null float64\n",
      "price_aprox_usd               468137 non-null float64\n",
      "surface_total_in_m2           338053 non-null float64\n",
      "surface_covered_in_m2         409878 non-null float64\n",
      "price_usd_per_m2              268569 non-null float64\n",
      "price_per_m2                  356246 non-null float64\n",
      "floor                         58838 non-null float64\n",
      "rooms                         310849 non-null float64\n",
      "expenses                      50026 non-null float64\n",
      "properati_url                 517534 non-null object\n",
      "description                   517496 non-null object\n",
      "title                         517534 non-null object\n",
      "image_thumbnail               511032 non-null object\n",
      "dtypes: float64(13), object(14)\n",
      "memory usage: 110.6+ MB\n"
     ]
    }
   ],
   "source": [
    "prop2016.info()"
   ]
  },
  {
   "cell_type": "code",
   "execution_count": 41,
   "metadata": {},
   "outputs": [
    {
     "name": "stdout",
     "output_type": "stream",
     "text": [
      "<class 'pandas.core.frame.DataFrame'>\n",
      "Int64Index: 616086 entries, 0 to 187481\n",
      "Data columns (total 27 columns):\n",
      "id                            616086 non-null object\n",
      "created_on                    616086 non-null object\n",
      "operation                     616086 non-null object\n",
      "property_type                 616086 non-null object\n",
      "place_name                    616003 non-null object\n",
      "place_with_parent_names       616086 non-null object\n",
      "country_name                  616086 non-null object\n",
      "state_name                    616086 non-null object\n",
      "geonames_id                   519101 non-null float64\n",
      "lat-lon                       475585 non-null object\n",
      "lat                           475585 non-null float64\n",
      "lon                           475585 non-null float64\n",
      "price                         513986 non-null float64\n",
      "currency                      509325 non-null object\n",
      "price_aprox_local_currency    513986 non-null float64\n",
      "price_aprox_usd               513986 non-null float64\n",
      "surface_total_in_m2           434810 non-null float64\n",
      "surface_covered_in_m2         515939 non-null float64\n",
      "price_usd_per_m2              353174 non-null float64\n",
      "price_per_m2                  441443 non-null float64\n",
      "floor                         62568 non-null float64\n",
      "rooms                         353585 non-null float64\n",
      "expenses                      54884 non-null float64\n",
      "properati_url                 616086 non-null object\n",
      "description                   616054 non-null object\n",
      "title                         616086 non-null object\n",
      "image_thumbnail               606991 non-null object\n",
      "dtypes: float64(13), object(14)\n",
      "memory usage: 131.6+ MB\n"
     ]
    }
   ],
   "source": [
    "prop2017.info()"
   ]
  },
  {
   "cell_type": "code",
   "execution_count": 19,
   "metadata": {},
   "outputs": [
    {
     "name": "stdout",
     "output_type": "stream",
     "text": [
      "<class 'pandas.core.frame.DataFrame'>\n",
      "Index: 0 entries\n",
      "Data columns (total 26 columns):\n",
      "surface_in_m2                 0 non-null float64\n",
      "created_on                    0 non-null object\n",
      "operation                     0 non-null object\n",
      "property_type                 0 non-null object\n",
      "place_name                    0 non-null object\n",
      "place_with_parent_names       0 non-null object\n",
      "geonames_id                   0 non-null float64\n",
      "lat-lon                       0 non-null object\n",
      "lat                           0 non-null float64\n",
      "lon                           0 non-null float64\n",
      "price                         0 non-null float64\n",
      "currency                      0 non-null object\n",
      "price_aprox_local_currency    0 non-null float64\n",
      "price_aprox_usd               0 non-null float64\n",
      "surface_total_in_m2           0 non-null float64\n",
      "surface_covered_in_m2         0 non-null float64\n",
      "price_usd_per_m2              0 non-null float64\n",
      "price_per_m2                  0 non-null float64\n",
      "floor                         0 non-null float64\n",
      "rooms                         0 non-null float64\n",
      "expenses                      0 non-null object\n",
      "properati_url                 0 non-null object\n",
      "description                   0 non-null object\n",
      "title                         0 non-null object\n",
      "extra                         0 non-null object\n",
      "image_thumbnail               0 non-null object\n",
      "dtypes: float64(13), object(13)\n",
      "memory usage: 0.0+ bytes\n"
     ]
    }
   ],
   "source": [
    "prop2013    "
   ]
  },
  {
   "cell_type": "code",
   "execution_count": 20,
   "metadata": {},
   "outputs": [
    {
     "name": "stdout",
     "output_type": "stream",
     "text": [
      "<class 'pandas.core.frame.DataFrame'>\n",
      "Index: 0 entries\n",
      "Data columns (total 27 columns):\n",
      "id                            0 non-null object\n",
      "created_on                    0 non-null object\n",
      "operation                     0 non-null object\n",
      "property_type                 0 non-null object\n",
      "place_name                    0 non-null object\n",
      "place_with_parent_names       0 non-null object\n",
      "country_name                  0 non-null object\n",
      "state_name                    0 non-null object\n",
      "geonames_id                   0 non-null float64\n",
      "lat-lon                       0 non-null object\n",
      "lat                           0 non-null float64\n",
      "lon                           0 non-null float64\n",
      "price                         0 non-null float64\n",
      "currency                      0 non-null object\n",
      "price_aprox_local_currency    0 non-null float64\n",
      "price_aprox_usd               0 non-null float64\n",
      "surface_total_in_m2           0 non-null float64\n",
      "surface_covered_in_m2         0 non-null float64\n",
      "price_usd_per_m2              0 non-null float64\n",
      "price_per_m2                  0 non-null float64\n",
      "floor                         0 non-null float64\n",
      "rooms                         0 non-null float64\n",
      "expenses                      0 non-null float64\n",
      "properati_url                 0 non-null object\n",
      "description                   0 non-null object\n",
      "title                         0 non-null object\n",
      "image_thumbnail               0 non-null object\n",
      "dtypes: float64(13), object(14)\n",
      "memory usage: 0.0+ bytes\n"
     ]
    }
   ],
   "source": [
    "prop2016.info()"
   ]
  },
  {
   "cell_type": "code",
   "execution_count": 21,
   "metadata": {},
   "outputs": [
    {
     "name": "stdout",
     "output_type": "stream",
     "text": [
      "<class 'pandas.core.frame.DataFrame'>\n",
      "Index: 0 entries\n",
      "Data columns (total 27 columns):\n",
      "id                            0 non-null object\n",
      "created_on                    0 non-null object\n",
      "operation                     0 non-null object\n",
      "property_type                 0 non-null object\n",
      "place_name                    0 non-null object\n",
      "place_with_parent_names       0 non-null object\n",
      "country_name                  0 non-null object\n",
      "state_name                    0 non-null object\n",
      "geonames_id                   0 non-null float64\n",
      "lat-lon                       0 non-null object\n",
      "lat                           0 non-null float64\n",
      "lon                           0 non-null float64\n",
      "price                         0 non-null float64\n",
      "currency                      0 non-null object\n",
      "price_aprox_local_currency    0 non-null float64\n",
      "price_aprox_usd               0 non-null float64\n",
      "surface_total_in_m2           0 non-null float64\n",
      "surface_covered_in_m2         0 non-null float64\n",
      "price_usd_per_m2              0 non-null float64\n",
      "price_per_m2                  0 non-null float64\n",
      "floor                         0 non-null float64\n",
      "rooms                         0 non-null float64\n",
      "expenses                      0 non-null float64\n",
      "properati_url                 0 non-null object\n",
      "description                   0 non-null object\n",
      "title                         0 non-null object\n",
      "image_thumbnail               0 non-null object\n",
      "dtypes: float64(13), object(14)\n",
      "memory usage: 0.0+ bytes\n"
     ]
    }
   ],
   "source": [
    "prop2017.info()"
   ]
  },
  {
   "cell_type": "code",
   "execution_count": null,
   "metadata": {
    "collapsed": true
   },
   "outputs": [],
   "source": []
  },
  {
   "cell_type": "code",
   "execution_count": null,
   "metadata": {
    "collapsed": true
   },
   "outputs": [],
   "source": []
  },
  {
   "cell_type": "code",
   "execution_count": null,
   "metadata": {
    "collapsed": true
   },
   "outputs": [],
   "source": []
  }
 ],
 "metadata": {
  "kernelspec": {
   "display_name": "Python 3",
   "language": "python",
   "name": "python3"
  },
  "language_info": {
   "codemirror_mode": {
    "name": "ipython",
    "version": 3
   },
   "file_extension": ".py",
   "mimetype": "text/x-python",
   "name": "python",
   "nbconvert_exporter": "python",
   "pygments_lexer": "ipython3",
   "version": "3.6.1"
  }
 },
 "nbformat": 4,
 "nbformat_minor": 2
}
